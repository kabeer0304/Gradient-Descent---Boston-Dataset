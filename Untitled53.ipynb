{
 "cells": [
  {
   "cell_type": "code",
   "execution_count": 65,
   "id": "619ea670",
   "metadata": {},
   "outputs": [
    {
     "data": {
      "text/plain": [
       "(379, 14)"
      ]
     },
     "execution_count": 65,
     "metadata": {},
     "output_type": "execute_result"
    }
   ],
   "source": [
    "import numpy as np\n",
    "train_data=np.genfromtxt(\"BDTRAIN.csv\",delimiter=\",\")\n",
    "test_data=np.genfromtxt(\"BDTEST.csv\",delimiter=\",\")\n",
    "train_data.shape\n",
    "\n",
    "\n"
   ]
  },
  {
   "cell_type": "code",
   "execution_count": 66,
   "id": "dbfb88a7",
   "metadata": {},
   "outputs": [],
   "source": [
    "def step_gradient(points,learning_rate,m,c):\n",
    "    m_slope=0\n",
    "    c_slope=0\n",
    "    M=len(points)\n",
    "    for i in range(M):\n",
    "        x=points[i,0]\n",
    "        y=points[i,1]\n",
    "        m_slope+=(-2/M)*(y-m*x-c)*x\n",
    "        c_slope+=(-2/M)*(y-m*x-c)\n",
    "    new_m=m-learning_rate*m_slope\n",
    "    new_c=c-learning_rate*c_slope\n",
    "    return new_m,new_c\n"
   ]
  },
  {
   "cell_type": "code",
   "execution_count": 67,
   "id": "55a7e1f8",
   "metadata": {},
   "outputs": [],
   "source": [
    "def gd(points,learning_rate,num_iterations):\n",
    "    m=0\n",
    "    c=0\n",
    "    for i in range(num_iterations):\n",
    "        m,c=step_gradient(points,learning_rate,m,c)\n",
    "        print(i,\"cost\",cost(points,m,c))\n",
    "    return m,c"
   ]
  },
  {
   "cell_type": "code",
   "execution_count": 68,
   "id": "08978119",
   "metadata": {},
   "outputs": [],
   "source": [
    "def cost(points,m,c):\n",
    "    total_cost=0\n",
    "    M=len(points)\n",
    "    for i in range(M):\n",
    "        x=points[i,0]\n",
    "        y=points[i,1]\n",
    "        total_cost+=(1/M)*((y-m*c)**2)\n",
    "    return total_cost"
   ]
  },
  {
   "cell_type": "code",
   "execution_count": 69,
   "id": "c5137825",
   "metadata": {},
   "outputs": [],
   "source": [
    "def run():\n",
    "    test_data=np.genfromtxt(\"BDTEST.csv\",delimiter=\",\")\n",
    "    learning_rate=0.00001\n",
    "    num_iterations=100\n",
    "    m,c=gd(train_data,learning_rate,num_iterations)\n",
    "    print(m,c)"
   ]
  },
  {
   "cell_type": "code",
   "execution_count": 70,
   "id": "16557fe7",
   "metadata": {},
   "outputs": [
    {
     "name": "stdout",
     "output_type": "stream",
     "text": [
      "0 cost 0.9989901438761104\n",
      "1 cost 0.9989901438761173\n",
      "2 cost 0.99899014387612\n",
      "3 cost 0.9989901438761175\n",
      "4 cost 0.998990143876127\n",
      "5 cost 0.9989901438761463\n",
      "6 cost 0.9989901438761608\n",
      "7 cost 0.9989901438761724\n",
      "8 cost 0.9989901438761928\n",
      "9 cost 0.9989901438762081\n",
      "10 cost 0.9989901438762316\n",
      "11 cost 0.998990143876256\n",
      "12 cost 0.9989901438762723\n",
      "13 cost 0.9989901438762991\n",
      "14 cost 0.9989901438763367\n",
      "15 cost 0.9989901438763678\n",
      "16 cost 0.9989901438763942\n",
      "17 cost 0.998990143876432\n",
      "18 cost 0.998990143876467\n",
      "19 cost 0.9989901438765098\n",
      "20 cost 0.9989901438765482\n",
      "21 cost 0.9989901438765995\n",
      "22 cost 0.9989901438766431\n",
      "23 cost 0.998990143876684\n",
      "24 cost 0.9989901438767337\n",
      "25 cost 0.9989901438767946\n",
      "26 cost 0.9989901438768476\n",
      "27 cost 0.9989901438768997\n",
      "28 cost 0.9989901438769615\n",
      "29 cost 0.9989901438770168\n",
      "30 cost 0.9989901438770823\n",
      "31 cost 0.998990143877147\n",
      "32 cost 0.998990143877204\n",
      "33 cost 0.9989901438772717\n",
      "34 cost 0.9989901438773494\n",
      "35 cost 0.9989901438774236\n",
      "36 cost 0.9989901438774882\n",
      "37 cost 0.9989901438775687\n",
      "38 cost 0.9989901438776412\n",
      "39 cost 0.9989901438777276\n",
      "40 cost 0.9989901438778053\n",
      "41 cost 0.9989901438778939\n",
      "42 cost 0.9989901438779811\n",
      "43 cost 0.9989901438780607\n",
      "44 cost 0.9989901438781515\n",
      "45 cost 0.9989901438782516\n",
      "46 cost 0.9989901438783463\n",
      "47 cost 0.9989901438784379\n",
      "48 cost 0.9989901438785408\n",
      "49 cost 0.9989901438786352\n",
      "50 cost 0.9989901438787409\n",
      "51 cost 0.9989901438788449\n",
      "52 cost 0.9989901438789424\n",
      "53 cost 0.998990143879063\n",
      "54 cost 0.9989901438791656\n",
      "55 cost 0.9989901438792799\n",
      "56 cost 0.9989901438793887\n",
      "57 cost 0.9989901438795066\n",
      "58 cost 0.9989901438796329\n",
      "59 cost 0.9989901438797442\n",
      "60 cost 0.9989901438798757\n",
      "61 cost 0.9989901438799924\n",
      "62 cost 0.9989901438801162\n",
      "63 cost 0.9989901438802506\n",
      "64 cost 0.9989901438803785\n",
      "65 cost 0.9989901438805195\n",
      "66 cost 0.9989901438806543\n",
      "67 cost 0.9989901438807856\n",
      "68 cost 0.9989901438809261\n",
      "69 cost 0.9989901438810611\n",
      "70 cost 0.998990143881208\n",
      "71 cost 0.998990143881347\n",
      "72 cost 0.9989901438815008\n",
      "73 cost 0.9989901438816483\n",
      "74 cost 0.9989901438818019\n",
      "75 cost 0.9989901438819533\n",
      "76 cost 0.9989901438821014\n",
      "77 cost 0.9989901438822586\n",
      "78 cost 0.9989901438824264\n",
      "79 cost 0.998990143882576\n",
      "80 cost 0.9989901438827459\n",
      "81 cost 0.9989901438829147\n",
      "82 cost 0.9989901438830795\n",
      "83 cost 0.9989901438832375\n",
      "84 cost 0.9989901438834196\n",
      "85 cost 0.9989901438835843\n",
      "86 cost 0.9989901438837585\n",
      "87 cost 0.9989901438839417\n",
      "88 cost 0.9989901438841207\n",
      "89 cost 0.9989901438842954\n",
      "90 cost 0.9989901438844809\n",
      "91 cost 0.9989901438846716\n",
      "92 cost 0.998990143884849\n",
      "93 cost 0.9989901438850458\n",
      "94 cost 0.9989901438852283\n",
      "95 cost 0.9989901438854316\n",
      "96 cost 0.9989901438856188\n",
      "97 cost 0.9989901438858138\n",
      "98 cost 0.9989901438860173\n",
      "99 cost 0.9989901438862181\n",
      "-0.00041914592124654444 4.913973103604806e-06\n"
     ]
    }
   ],
   "source": [
    "run()"
   ]
  },
  {
   "cell_type": "code",
   "execution_count": null,
   "id": "5476f710",
   "metadata": {},
   "outputs": [],
   "source": []
  }
 ],
 "metadata": {
  "kernelspec": {
   "display_name": "Python 3 (ipykernel)",
   "language": "python",
   "name": "python3"
  },
  "language_info": {
   "codemirror_mode": {
    "name": "ipython",
    "version": 3
   },
   "file_extension": ".py",
   "mimetype": "text/x-python",
   "name": "python",
   "nbconvert_exporter": "python",
   "pygments_lexer": "ipython3",
   "version": "3.9.7"
  }
 },
 "nbformat": 4,
 "nbformat_minor": 5
}
